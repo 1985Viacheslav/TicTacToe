{
 "cells": [
  {
   "cell_type": "markdown",
   "id": "5e634a28",
   "metadata": {},
   "source": [
    "# Импорт необходимых библиотек"
   ]
  },
  {
   "cell_type": "code",
   "execution_count": 1,
   "id": "c325dc2c-05aa-4d30-973d-7e28816b1e5a",
   "metadata": {},
   "outputs": [],
   "source": [
    "import pickle\n",
    "import random\n",
    "import numpy as np\n",
    "import matplotlib.pyplot as plt\n",
    "from IPython.display import clear_output"
   ]
  },
  {
   "cell_type": "markdown",
   "id": "de2f262f",
   "metadata": {},
   "source": [
    "# Настройка среды"
   ]
  },
  {
   "cell_type": "code",
   "execution_count": 2,
   "id": "c373a607-c5e2-4ebe-8339-3ee91422aed9",
   "metadata": {},
   "outputs": [],
   "source": [
    "class TicTacToe:\n",
    "    def __init__(self, size=3):\n",
    "        self.size = size\n",
    "        # Создаем пустое игровое поле заданного размера\n",
    "        self.board = np.zeros((self.size, self.size), dtype=int)\n",
    "        # Устанавливаем текущего игрока (1 - первый игрок, 2 - второй игрок)\n",
    "        self.current_player = 1\n",
    "\n",
    "    def reset(self):\n",
    "        # Сбрасываем игровое поле и устанавливаем текущего игрока на первого\n",
    "        self.board = np.zeros((self.size, self.size), dtype=int)\n",
    "        self.current_player = 1\n",
    "\n",
    "    def available_actions(self):\n",
    "        # Возвращаем список доступных ходов (пустых клеток на игровом поле)\n",
    "        return [(i, j) for i in range(self.size) for j in range(self.size) if self.board[i, j] == 0]\n",
    "\n",
    "    def make_move(self, row, col):\n",
    "        # Проверяем, что клетка пуста\n",
    "        if self.board[row, col] == 0:\n",
    "            # Выполняем ход текущего игрока\n",
    "            self.board[row, col] = self.current_player\n",
    "            # Проверяем, не выиграл ли текущий игрок\n",
    "            if self.check_winner(self.current_player):\n",
    "                return self.current_player\n",
    "            # Проверяем, не завершилась ли игра ничьей\n",
    "            elif len(self.available_actions()) == 0:\n",
    "                return 0\n",
    "            else:\n",
    "                # Меняем текущего игрока\n",
    "                self.current_player = 3 - self.current_player\n",
    "                return None\n",
    "        else:\n",
    "            # Если клетка занята, вызываем ошибку\n",
    "            raise ValueError(\"Эта клетка уже занята!\")\n",
    "\n",
    "    def check_winner(self, player):\n",
    "        # Проверяем строки и столбцы на наличие победы\n",
    "        for i in range(self.size):\n",
    "            if np.all(self.board[i, :] == player) or np.all(self.board[:, i] == player):\n",
    "                return True\n",
    "        # Проверяем главную и побочную диагонали на наличие победы\n",
    "        if np.all(np.diag(self.board) == player) or np.all(np.diag(np.fliplr(self.board)) == player):\n",
    "            return True\n",
    "        # Если победы нет, возвращаем False\n",
    "        return False\n"
   ]
  },
  {
   "cell_type": "markdown",
   "id": "cff65e79",
   "metadata": {},
   "source": [
    "# Настройка агента"
   ]
  },
  {
   "cell_type": "code",
   "execution_count": 3,
   "id": "512bc454-d35e-49d2-b222-8e8d68094f35",
   "metadata": {},
   "outputs": [],
   "source": [
    "class QLearningAgent:\n",
    "    def __init__(self, alpha=0.1, gamma=0.99, epsilon=0.1, epsilon_decay=0.995, epsilon_min=0.1):\n",
    "        # Инициализация параметров Q-learning агента\n",
    "        self.q_table = {}  # Q-таблица для хранения значений Q\n",
    "        self.alpha = alpha  # Скорость обучения (learning rate)\n",
    "        self.gamma = gamma  # Коэффициент дисконтирования (discount factor)\n",
    "        self.epsilon = epsilon  # Начальная вероятность выбора случайного действия (exploration rate)\n",
    "        self.epsilon_decay = epsilon_decay  # Коэффициент уменьшения epsilon после каждой итерации\n",
    "        self.epsilon_min = epsilon_min  # Минимальное значение epsilon\n",
    "\n",
    "    def get_state_key(self, board):\n",
    "        # Преобразование игрового поля в ключ состояния для использования в Q-таблице\n",
    "        return tuple(board.flatten())  # Преобразуем матрицу в плоский массив, затем в кортеж\n",
    "\n",
    "    def choose_action(self, state, available_actions):\n",
    "        # Выбор действия на основе epsilon-greedy стратегии\n",
    "        if not available_actions:\n",
    "            return None  # Если нет доступных действий, возвращаем None\n",
    "\n",
    "        if random.uniform(0, 1) < self.epsilon:\n",
    "            # Случайный выбор действия (exploration)\n",
    "            return random.choice(available_actions)\n",
    "        else:\n",
    "            # Выбор действия с максимальным Q-значением (exploitation)\n",
    "            q_values = [self.q_table.get((state, action), 0) for action in available_actions]  # Получаем Q-значения для всех доступных действий\n",
    "            max_q = max(q_values)  # Находим максимальное Q-значение\n",
    "            max_actions = [action for action, q in zip(available_actions, q_values) if q == max_q]  # Находим действия с максимальным Q-значением\n",
    "            return random.choice(max_actions)  # Возвращаем одно из действий с максимальным Q-значением\n",
    "\n",
    "    def update_q_table(self, state, action, reward, next_state, done, available_actions_next):\n",
    "        # Обновление Q-таблицы на основе полученного опыта\n",
    "        state_key = self.get_state_key(state)  # Получаем ключ текущего состояния\n",
    "        next_state_key = self.get_state_key(next_state)  # Получаем ключ следующего состояния\n",
    "        current_q = self.q_table.get((state_key, action), 0)  # Текущее Q-значение для данной пары (состояние, действие)\n",
    "\n",
    "        if done:\n",
    "            target = reward  # Если игра завершена, целевое значение равно награде\n",
    "        else:\n",
    "            next_q_values = [self.q_table.get((next_state_key, a), 0) for a in available_actions_next]  # Q-значения для всех доступных действий в следующем состоянии\n",
    "            target = reward + self.gamma * max(next_q_values, default=0)  # Целевое значение с учетом будущих наград\n",
    "\n",
    "        self.q_table[(state_key, action)] = current_q + self.alpha * (target - current_q)  # Обновление Q-значения с использованием формулы Q-learning\n",
    "\n",
    "    def save_q_table(self, filename='q_table.pkl'):\n",
    "        # Сохранение Q-таблицы в файл\n",
    "        with open(filename, 'wb') as f:  # Открываем файл для записи в двоичном режиме\n",
    "            pickle.dump(self.q_table, f)  # Сохраняем Q-таблицу в файл с помощью pickle\n",
    "\n",
    "    def load_q_table(self, filename='q_table.pkl'):\n",
    "        # Загрузка Q-таблицы из файла\n",
    "        with open(filename, 'rb') as f:  # Открываем файл для чтения в двоичном режиме\n",
    "            self.q_table = pickle.load(f)  # Загружаем Q-таблицу из файла с помощью pickle\n",
    "\n"
   ]
  },
  {
   "cell_type": "markdown",
   "id": "3d53f38b",
   "metadata": {},
   "source": [
    "# Функции для взаимодействия с пользователем"
   ]
  },
  {
   "cell_type": "code",
   "execution_count": 4,
   "id": "48c45603",
   "metadata": {},
   "outputs": [],
   "source": [
    "def display_board(game):\n",
    "    \"\"\"Выводит текущее состояние поля.\"\"\"\n",
    "    clear_output()  # Очищаем вывод\n",
    "    for i in range(game.size):  # Проходим по всем строкам игрового поля\n",
    "        row = ' | '.join(['X' if x == 1 else 'O' if x == 2 else ' ' for x in game.board[i]])  # Формируем строку для текущей строки поля\n",
    "        print(row)  # Выводим строку\n",
    "        if i < game.size - 1:\n",
    "            print('-' * (game.size * 4 - 3))  # Выводим разделительную линию между строками\n",
    "\n",
    "def play_game_with_console_and_agent(size, agent):\n",
    "    \"\"\"Запускает игру с участием пользователя и агента.\"\"\"\n",
    "    game = TicTacToe(size)  # Создаем экземпляр игры\n",
    "    game.reset()  # Сбрасываем игру\n",
    "\n",
    "    print(\"Добро пожаловать в игру Крестики-Нолики!\")  # Приветственное сообщение\n",
    "    display_board(game)  # Выводим игровое поле\n",
    "\n",
    "    while True:\n",
    "        # Ход игрока 1 (человек)\n",
    "        print(f\"Ход игрока 1 (X)\")  # Сообщение о ходе первого игрока\n",
    "        try:\n",
    "            row = int(input(f\"Введите номер строки (1-{size}): \")) - 1  # Запрашиваем номер строки\n",
    "            col = int(input(f\"Введите номер столбца (1-{size}): \")) - 1  # Запрашиваем номер столбца\n",
    "            result = game.make_move(row, col)  # Выполняем ход игрока\n",
    "            display_board(game)  # Выводим игровое поле\n",
    "            if result is not None:  # Проверяем результат игры\n",
    "                if result == 1:\n",
    "                    print(\"Поздравляем! Игрок 1 (X) победил!\")  # Сообщение о победе первого игрока\n",
    "                elif result == 0:\n",
    "                    print(\"Ничья!\")  # Сообщение о ничье\n",
    "                break  # Завершаем игру\n",
    "        except ValueError:\n",
    "            print(\"Недопустимый ход. Попробуйте снова.\")  # Сообщение о недопустимом ходе\n",
    "\n",
    "        # Ход агента (игрок 2)\n",
    "        print(f\"Ход игрока 2 (O) - Агент\")  # Сообщение о ходе агента\n",
    "        available_actions = game.available_actions()  # Получаем доступные действия\n",
    "        state = game.board.copy()  # Копируем текущее состояние игрового поля\n",
    "        action = agent.choose_action(agent.get_state_key(state), available_actions)  # Агенты выбирают действие\n",
    "\n",
    "        if action:\n",
    "            row, col = action  # Применяем выбранное действие\n",
    "            result = game.make_move(row, col)  # Выполняем ход агента\n",
    "            display_board(game)  # Выводим игровое поле\n",
    "            if result is not None:  # Проверяем результат игры\n",
    "                if result == 2:\n",
    "                    print(\"Агент (игрок 2) победил!\")  # Сообщение о победе агента\n",
    "                elif result == 0:\n",
    "                    print(\"Ничья!\")  # Сообщение о ничье\n",
    "                break  # Завершаем игру\n",
    "        else:\n",
    "            print(\"Нет доступных ходов!\")  # Сообщение об отсутствии доступных ходов\n",
    "            break  # Завершаем игру"
   ]
  },
  {
   "cell_type": "markdown",
   "id": "29bc1c74",
   "metadata": {},
   "source": [
    "# Функция тренировки агента и построение сглаженной кривой обучения"
   ]
  },
  {
   "cell_type": "code",
   "execution_count": 5,
   "id": "ec5d2a70-ddde-4d14-86e9-0b77b36610c4",
   "metadata": {},
   "outputs": [],
   "source": [
    "def train_agent(size=3, episodes=20000):\n",
    "    agent = QLearningAgent()  # Создание экземпляра агента на основе Q-обучения\n",
    "    game = TicTacToe(size=size)  # Создание экземпляра игры с указанным размером поля\n",
    "    win_history = []  # Инициализация списка для хранения истории побед\n",
    "\n",
    "    for episode in range(1, episodes + 1):\n",
    "        game.reset()  # Сброс игрового поля в начальное состояние\n",
    "        state = game.board.copy()  # Копирование текущего состояния игрового поля\n",
    "        done = False  # Флаг завершения игры\n",
    "        current_player = 1  # Текущий игрок (1 - первый игрок)\n",
    "\n",
    "        while not done:\n",
    "            available_actions = game.available_actions()  # Получение списка доступных действий\n",
    "            action = agent.choose_action(agent.get_state_key(state), available_actions)  # Выбор действия агентом\n",
    "\n",
    "            if action is None:\n",
    "                break  # Если нет доступных действий, выход из цикла\n",
    "\n",
    "            result = game.make_move(*action)  # Выполнение хода на игровом поле\n",
    "            next_state = game.board.copy()  # Копирование следующего состояния игрового поля\n",
    "\n",
    "            if result == current_player:\n",
    "                reward = 10  # Награда за победу\n",
    "                done = True  # Игра завершена\n",
    "            elif result == 0:\n",
    "                reward = 5  # Награда за ничью\n",
    "                done = True  # Игра завершена\n",
    "            else:\n",
    "                reward = -0.5  # Штраф за продолжающуюся игру\n",
    "                done = False  # Игра продолжается\n",
    "\n",
    "            available_actions_next = game.available_actions()  # Получение списка доступных действий для следующего состояния\n",
    "            agent.update_q_table(state, action, reward, next_state, done, available_actions_next)  # Обновление Q-таблицы\n",
    "\n",
    "            state = next_state.copy()  # Переход к следующему состоянию\n",
    "\n",
    "        if result == 1:\n",
    "            win_history.append(1)  # Запись победы первого игрока\n",
    "        elif result == 0:\n",
    "            win_history.append(0.5)  # Запись ничьи\n",
    "        else:\n",
    "            win_history.append(0)  # Запись поражения\n",
    "\n",
    "        if agent.epsilon > agent.epsilon_min:\n",
    "            agent.epsilon *= agent.epsilon_decay  # Уменьшение epsilon для уменьшения вероятности случайных действий\n",
    "\n",
    "        if episode % 1000 == 0:\n",
    "            print(f'Episode {episode}/{episodes} completed.')  # Вывод информации о завершении очередного блока эпизодов\n",
    "\n",
    "    agent.save_q_table()  # Сохранение Q-таблицы на диск\n",
    "    return agent, win_history  # Возврат обученного агента и истории побед\n"
   ]
  },
  {
   "cell_type": "markdown",
   "id": "9b3a8162",
   "metadata": {},
   "source": [
    "# Построение кривой обучения"
   ]
  },
  {
   "cell_type": "code",
   "execution_count": 6,
   "id": "eac43681-68ba-4acf-9269-582b6fa72747",
   "metadata": {},
   "outputs": [],
   "source": [
    "def plot_learning_curve(win_history, window_size=100):\n",
    "    # Вычисляем скользящее среднее выигрышей для сглаживания кривой обучения\n",
    "    smoothed_win_history = np.convolve(win_history, np.ones(window_size) / window_size, mode='valid')\n",
    "    \n",
    "    # Создаем график скользящего среднего выигрышей\n",
    "    plt.plot(smoothed_win_history, label=\"Скользящее среднее выигрышей\")\n",
    "    \n",
    "    # Устанавливаем метки для осей x и y\n",
    "    plt.xlabel('Эпизоды')\n",
    "    plt.ylabel('Средний результат (1 - победа, 0.5 - ничья, 0 - поражение)')\n",
    "    \n",
    "    # Устанавливаем заголовок графика\n",
    "    plt.title('Кривая обучения модели')\n",
    "    \n",
    "    # Добавляем легенду на график\n",
    "    plt.legend()\n",
    "    \n",
    "    # Отображаем график\n",
    "    plt.show()\n"
   ]
  },
  {
   "cell_type": "markdown",
   "id": "b9cb5705",
   "metadata": {},
   "source": [
    "# Инициализация агента и обучение"
   ]
  },
  {
   "cell_type": "markdown",
   "id": "859ecd62",
   "metadata": {},
   "source": [
    "# Обучаем агента на поле 3*3 и сохраняем Q-таблицу"
   ]
  },
  {
   "cell_type": "code",
   "execution_count": 8,
   "id": "ae9c54ed-fcc9-4b35-a1bb-f813ba632502",
   "metadata": {},
   "outputs": [
    {
     "name": "stdout",
     "output_type": "stream",
     "text": [
      "Q-таблица не найдена. Начинаем обучение агента...\n",
      "Episode 1000/20000 completed.\n",
      "Episode 2000/20000 completed.\n",
      "Episode 3000/20000 completed.\n",
      "Episode 4000/20000 completed.\n",
      "Episode 5000/20000 completed.\n",
      "Episode 6000/20000 completed.\n",
      "Episode 7000/20000 completed.\n",
      "Episode 8000/20000 completed.\n",
      "Episode 9000/20000 completed.\n",
      "Episode 10000/20000 completed.\n",
      "Episode 11000/20000 completed.\n",
      "Episode 12000/20000 completed.\n",
      "Episode 13000/20000 completed.\n",
      "Episode 14000/20000 completed.\n",
      "Episode 15000/20000 completed.\n",
      "Episode 16000/20000 completed.\n",
      "Episode 17000/20000 completed.\n",
      "Episode 18000/20000 completed.\n",
      "Episode 19000/20000 completed.\n",
      "Episode 20000/20000 completed.\n",
      "Отображение графика обучения\n"
     ]
    },
    {
     "data": {
      "image/png": "[encoded data removed]",
      "text/plain": [
       "<Figure size 640x480 with 1 Axes>"
      ]
     },
     "metadata": {},
     "output_type": "display_data"
    }
   ],
   "source": [
    "# Запрос размера поля у пользователя\n",
    "size = 3\n",
    "\n",
    "# Создание экземпляра агента Q-learning\n",
    "agent = QLearningAgent()\n",
    "try:\n",
    "    # Попытка загрузить Q-таблицу из файла\n",
    "    agent.load_q_table('q_table.pkl')\n",
    "    print(\"Q-таблица загружена.\")\n",
    "    win_history = None  # История выигрышей отсутствует, т.к. агент уже обучен\n",
    "except FileNotFoundError:\n",
    "    # Если файл не найден, начинаем обучение агента\n",
    "    print(\"Q-таблица не найдена. Начинаем обучение агента...\")\n",
    "    agent, win_history = train_agent(size=size)  # Обучение агента и получение истории выигрышей\n",
    "\n",
    "    if win_history is not None:\n",
    "        # Если история выигрышей существует, отображаем график обучения\n",
    "        print(\"Отображение графика обучения\")\n",
    "        plot_learning_curve(win_history)  # Построение и отображение кривой обучения"
   ]
  },
  {
   "cell_type": "markdown",
   "id": "113bdc3f",
   "metadata": {},
   "source": [
    "# Запуск игры"
   ]
  },
  {
   "cell_type": "code",
   "execution_count": 11,
   "id": "d146e672-b993-4a23-9c93-231c4504adf4",
   "metadata": {},
   "outputs": [
    {
     "name": "stdout",
     "output_type": "stream",
     "text": [
      "X | O | X\n",
      "---------\n",
      "  | X | O\n",
      "---------\n",
      "  | O | X\n",
      "Поздравляем! Игрок 1 (X) победил!\n"
     ]
    }
   ],
   "source": [
    "# Вывод сообщения о запуске игры\n",
    "print(\"Запуск игры...\")\n",
    "\n",
    "# Запуск игры с участием пользователя и агента\n",
    "play_game_with_console_and_agent(size, agent)\n"
   ]
  },
  {
   "cell_type": "markdown",
   "id": "0789b173",
   "metadata": {},
   "source": [
    "# Загружаем Q-таблицу и устанавливаем размер поля 5*5"
   ]
  },
  {
   "cell_type": "code",
   "execution_count": null,
   "id": "7bbfb3e8",
   "metadata": {},
   "outputs": [
    {
     "name": "stdout",
     "output_type": "stream",
     "text": [
      "Q-таблица загружена.\n"
     ]
    }
   ],
   "source": [
    "if __name__ == \"__main__\":\n",
    "    # Устанавливаем размер поля 5 на 5\n",
    "    size = 5\n",
    "\n",
    "    agent = QLearningAgent()  # Создаем экземпляр агента Q-learning\n",
    "    try:\n",
    "        agent.load_q_table('q_table.pkl')  # Попытка загрузить Q-таблицу из файла\n",
    "        print(\"Q-таблица загружена.\")  # Сообщение об успешной загрузке Q-таблицы\n",
    "        win_history = None  # История выигрышей отсутствует, т.к. агент уже обучен\n",
    "    except FileNotFoundError:\n",
    "        # Если файл не найден, начинаем обучение агента\n",
    "        print(\"Q-таблица не найдена. Начинаем обучение агента...\")\n",
    "        agent, win_history = train_agent(size=size)  # Обучение агента и получение истории выигрышей\n",
    "\n",
    "        if win_history is not None:\n",
    "            # Если история выигрышей существует, отображаем график обучения\n",
    "            print(\"Отображение графика обучения\")\n",
    "            plot_learning_curve(win_history)  # Построение и отображение кривой обучения\n",
    "\n",
    "\n"
   ]
  },
  {
   "cell_type": "code",
   "execution_count": null,
   "id": "fe7ccb90",
   "metadata": {},
   "outputs": [
    {
     "name": "stdout",
     "output_type": "stream",
     "text": [
      "X | O | O | X | X\n",
      "-----------------\n",
      "O | X | X | X | X\n",
      "-----------------\n",
      "X | X | X | O | O\n",
      "-----------------\n",
      "O | O | O | X | O\n",
      "-----------------\n",
      "X | O | X | O | O\n",
      "Ничья!\n"
     ]
    }
   ],
   "source": [
    "# Вывод сообщения о запуске игры\n",
    "print(\"Запуск игры...\")\n",
    "\n",
    "# Запуск игры с участием пользователя и агента\n",
    "play_game_with_console_and_agent(size, agent)\n"
   ]
  }
 ],
 "metadata": {
  "kernelspec": {
   "display_name": "Python 3",
   "language": "python",
   "name": "python3"
  },
  "language_info": {
   "codemirror_mode": {
    "name": "ipython",
    "version": 3
   },
   "file_extension": ".py",
   "mimetype": "text/x-python",
   "name": "python",
   "nbconvert_exporter": "python",
   "pygments_lexer": "ipython3",
   "version": "3.11.9"
  }
 },
 "nbformat": 4,
 "nbformat_minor": 5
}
